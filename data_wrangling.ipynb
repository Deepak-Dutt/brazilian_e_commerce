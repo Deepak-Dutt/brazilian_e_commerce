{
 "cells": [
  {
   "cell_type": "code",
   "execution_count": 5,
   "id": "2c15be03",
   "metadata": {},
   "outputs": [],
   "source": [
    "import pandas as pd\n",
    "import csv"
   ]
  },
  {
   "cell_type": "code",
   "execution_count": 2,
   "id": "dc480efd",
   "metadata": {},
   "outputs": [],
   "source": [
    "customers= pd.read_csv('D:/brazilian_e_commerce/data/original data/olist_customers_dataset.csv', on_bad_lines= 'warn')\n",
    "customers= customers.replace('', pd.NA)\n",
    "customers.to_csv('D:/brazilian_e_commerce/data/clean_data/customers.csv',\n",
    "                 index= False,\n",
    "                 sep= ',',\n",
    "                 quotechar= '\"',\n",
    "                 lineterminator= '\\n',\n",
    "                 quoting= 1,\n",
    "                 na_rep= r'\\N'\n",
    "                 )"
   ]
  },
  {
   "cell_type": "code",
   "execution_count": 3,
   "id": "fe6d1633",
   "metadata": {},
   "outputs": [],
   "source": [
    "geolocation= pd.read_csv('D:/brazilian_e_commerce/data/original data/olist_geolocation_dataset.csv', on_bad_lines= 'warn')\n",
    "geolocation= geolocation.replace('', pd.NA)\n",
    "geolocation.to_csv('D:/brazilian_e_commerce/data/clean_data/geolocation.csv',\n",
    "                   index= False,\n",
    "                   sep= ',',\n",
    "                   quotechar= '\"',\n",
    "                   lineterminator= '\\n',\n",
    "                   quoting= 1,\n",
    "                   na_rep= r'\\N'\n",
    "                   )"
   ]
  },
  {
   "cell_type": "code",
   "execution_count": 4,
   "id": "4830d888",
   "metadata": {},
   "outputs": [],
   "source": [
    "order_items= pd.read_csv('D:/brazilian_e_commerce/data/original data/olist_order_items_dataset.csv', on_bad_lines= 'warn')\n",
    "order_items= order_items.replace('', pd.NA)\n",
    "order_items.to_csv('D:/brazilian_e_commerce/data/clean_data/order_items.csv',\n",
    "                   index= False,\n",
    "                   sep= ',',\n",
    "                   quotechar= '\"',\n",
    "                   lineterminator= '\\n',\n",
    "                   quoting= 1,\n",
    "                   na_rep= r'\\N'\n",
    "                   )"
   ]
  },
  {
   "cell_type": "code",
   "execution_count": 5,
   "id": "dc759420",
   "metadata": {},
   "outputs": [],
   "source": [
    "order_payments= pd.read_csv('D:/brazilian_e_commerce/data/original data/olist_order_payments_dataset.csv', on_bad_lines= 'warn')\n",
    "order_payments= order_payments.replace('', pd.NA)\n",
    "order_payments.to_csv('D:/brazilian_e_commerce/data/clean_data/payments.csv',\n",
    "                      index= False,\n",
    "                      sep= ',',\n",
    "                      quotechar= '\"',\n",
    "                      lineterminator= '\\n',\n",
    "                      quoting= 1,\n",
    "                      na_rep= r'\\N'\n",
    "                      )"
   ]
  },
  {
   "cell_type": "code",
   "execution_count": 11,
   "id": "092ffa1e",
   "metadata": {},
   "outputs": [],
   "source": [
    "order_reviews= pd.read_csv('D:/brazilian_e_commerce/data/original data/olist_order_reviews_dataset.csv', on_bad_lines= 'warn')\n",
    "order_reviews['review_comment_message']= order_reviews['review_comment_message'].astype(str).str.replace(r'[\\r\\n]+', ' ', regex= True)\n",
    "order_reviews= order_reviews.replace('', pd.NA)\n",
    "order_reviews['review_comment_message']= order_reviews['review_comment_message'].replace('nan', pd.NA)\n",
    "order_reviews.to_csv('D:/brazilian_e_commerce/data/clean_data/reviews.csv',\n",
    "                     index= False,\n",
    "                     sep= ',',\n",
    "                     quotechar= '\"',\n",
    "                     lineterminator= '\\n',\n",
    "                     quoting= 1,\n",
    "                     na_rep= r'\\N'\n",
    "                     )"
   ]
  },
  {
   "cell_type": "code",
   "execution_count": 7,
   "id": "353de2b2",
   "metadata": {},
   "outputs": [],
   "source": [
    "orders= pd.read_csv('D:/brazilian_e_commerce/data/original data/olist_orders_dataset.csv', on_bad_lines= 'warn')\n",
    "orders= orders.replace('', pd.NA)\n",
    "orders.to_csv('D:/brazilian_e_commerce/data/clean_data/orders.csv',\n",
    "              index= False,\n",
    "              sep= ',',\n",
    "              quotechar= '\"',\n",
    "              lineterminator= '\\n',\n",
    "              quoting= 1,\n",
    "              na_rep= r'\\N'\n",
    "              )"
   ]
  },
  {
   "cell_type": "code",
   "execution_count": 8,
   "id": "5e00962a",
   "metadata": {},
   "outputs": [],
   "source": [
    "products= pd.read_csv('D:/brazilian_e_commerce/data/original data/olist_products_dataset.csv', on_bad_lines= 'warn')\n",
    "products= products.replace('', pd.NA)\n",
    "products.to_csv('D:/brazilian_e_commerce/data/clean_data/products.csv',\n",
    "                index= False,\n",
    "                sep= ',',\n",
    "                quotechar= '\"',\n",
    "                lineterminator= '\\n',\n",
    "                quoting= 1,\n",
    "                na_rep= r'\\N'\n",
    "                )"
   ]
  },
  {
   "cell_type": "code",
   "execution_count": 9,
   "id": "2070cc25",
   "metadata": {},
   "outputs": [],
   "source": [
    "sellers= pd.read_csv('D:/brazilian_e_commerce/data/original data/olist_sellers_dataset.csv', on_bad_lines= 'warn')\n",
    "sellers= sellers.replace('', pd.NA)\n",
    "sellers.to_csv('D:/brazilian_e_commerce/data/clean_data/sellers.csv',\n",
    "               index= False,\n",
    "               sep= ',',\n",
    "               quotechar= '\"',\n",
    "               lineterminator= '\\n',\n",
    "               quoting= 1,\n",
    "               na_rep= r'\\N'\n",
    "               )"
   ]
  },
  {
   "cell_type": "code",
   "execution_count": 10,
   "id": "f1141916",
   "metadata": {},
   "outputs": [],
   "source": [
    "name_translation= pd.read_csv('D:/brazilian_e_commerce/data/original data/product_category_name_translation.csv', on_bad_lines= 'warn')\n",
    "name_translation= name_translation.replace('', pd.NA)\n",
    "name_translation.to_csv('D:/brazilian_e_commerce/data/clean_data/name_translation.csv',\n",
    "                        index= False,\n",
    "                        sep= ',',\n",
    "                        quotechar= '\"',\n",
    "                        lineterminator= '\\n',\n",
    "                        quoting= 1,\n",
    "                        na_rep= r'\\N'\n",
    "                        )"
   ]
  }
 ],
 "metadata": {
  "kernelspec": {
   "display_name": "background",
   "language": "python",
   "name": "python3"
  },
  "language_info": {
   "codemirror_mode": {
    "name": "ipython",
    "version": 3
   },
   "file_extension": ".py",
   "mimetype": "text/x-python",
   "name": "python",
   "nbconvert_exporter": "python",
   "pygments_lexer": "ipython3",
   "version": "3.13.5"
  }
 },
 "nbformat": 4,
 "nbformat_minor": 5
}
